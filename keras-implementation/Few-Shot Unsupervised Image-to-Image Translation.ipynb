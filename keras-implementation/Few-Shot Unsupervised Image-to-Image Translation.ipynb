{
 "cells": [
  {
   "cell_type": "code",
   "execution_count": 31,
   "metadata": {},
   "outputs": [],
   "source": [
    "import numpy as np\n",
    "import tensorflow as tf\n",
    "from keras.layers import Input, Add, Conv2D, BatchNormalization, ReLU, LeakyReLU, UpSampling2D, Concatenate, AveragePooling2D, Activation, ZeroPadding2D, MaxPooling2D, Dense, Flatten\n",
    "from keras.models import Model, load_model\n",
    "from keras.preprocessing import image\n",
    "from keras.utils import layer_utils\n",
    "from keras.utils.data_utils import get_file\n",
    "from keras.applications.imagenet_utils import preprocess_input\n",
    "import pydot\n",
    "from IPython.display import SVG\n",
    "from keras.utils.vis_utils import model_to_dot\n",
    "from keras.utils import plot_model\n",
    "from keras.initializers import glorot_uniform\n",
    "import imageio\n",
    "from matplotlib.pyplot import imshow\n",
    "from keras_contrib.layers.normalization.instancenormalization import InstanceNormalization\n",
    "import datetime\n",
    "%matplotlib inline\n",
    "\n",
    "import keras.backend as K"
   ]
  },
  {
   "cell_type": "code",
   "execution_count": 23,
   "metadata": {},
   "outputs": [],
   "source": [
    "img_rows = 128\n",
    "img_cols = 128\n",
    "channels = 3\n",
    "img_shape = (img_rows, img_cols, channels)"
   ]
  },
  {
   "cell_type": "markdown",
   "metadata": {},
   "source": [
    "<h2>Generator</h2>"
   ]
  },
  {
   "cell_type": "markdown",
   "metadata": {},
   "source": [
    "<h3>Content Encoder</h3>"
   ]
  },
  {
   "cell_type": "code",
   "execution_count": 8,
   "metadata": {},
   "outputs": [],
   "source": [
    "def content_encoder(shape):\n",
    "    X_input = Input(shape=shape)\n",
    "    \n",
    "    X = Conv2D(64, kernel_size=1, strides=1, padding='same')(X_input)\n",
    "    X = InstanceNormalization()(X)\n",
    "    X = ReLU()(X)\n",
    "    \n",
    "    X = Conv2D(128, kernel_size=1, strides=2, padding='same')(X)\n",
    "    X = InstanceNormalization()(X)\n",
    "    X = ReLU()(X)\n",
    "    \n",
    "    X = Conv2D(256, kernel_size=1, strides=2, padding='same')(X)\n",
    "    X = InstanceNormalization()(X)\n",
    "    X = ReLU()(X)\n",
    "    \n",
    "    X = Conv2D(512, kernel_size=1, strides=2, padding='same')(X)\n",
    "    X = InstanceNormalization()(X)\n",
    "    X = ReLU()(X)\n",
    "    \n",
    "    X_shortcut = X\n",
    "    \n",
    "    X = Conv2D(512, kernel_size=1, strides=1, padding='same')(X)\n",
    "    X = InstanceNormalization()(X)\n",
    "    X = Add()([X_shortcut, X])\n",
    "    X = ReLU()(X)\n",
    "    \n",
    "    X_shortcut = X\n",
    "    \n",
    "    X = Conv2D(512, kernel_size=1, strides=1, padding='same')(X)\n",
    "    X = InstanceNormalization()(X)\n",
    "    X = Add()([X_shortcut, X])\n",
    "    X = ReLU()(X)\n",
    "    \n",
    "#     model = Model(inputs=X_input, outputs=X, name='content_encoder')\n",
    "#     return model\n",
    "\n",
    "    return X"
   ]
  },
  {
   "cell_type": "code",
   "execution_count": 10,
   "metadata": {},
   "outputs": [
    {
     "data": {
      "text/plain": [
       "TensorShape([Dimension(None), Dimension(16), Dimension(16), Dimension(512)])"
      ]
     },
     "execution_count": 10,
     "metadata": {},
     "output_type": "execute_result"
    }
   ],
   "source": [
    "X = content_encoder(img_shape)\n",
    "X.shape"
   ]
  },
  {
   "cell_type": "code",
   "execution_count": 13,
   "metadata": {},
   "outputs": [
    {
     "data": {
      "image/svg+xml": [
       "<svg height=\"1505pt\" viewBox=\"0.00 0.00 391.00 1505.00\" width=\"391pt\" xmlns=\"http://www.w3.org/2000/svg\" xmlns:xlink=\"http://www.w3.org/1999/xlink\">\n",
       "<g class=\"graph\" id=\"graph0\" transform=\"scale(1 1) rotate(0) translate(4 1501)\">\n",
       "<title>G</title>\n",
       "<polygon fill=\"#ffffff\" points=\"-4,4 -4,-1501 387,-1501 387,4 -4,4\" stroke=\"transparent\"/>\n",
       "<!-- 140360793116456 -->\n",
       "<g class=\"node\" id=\"node1\">\n",
       "<title>140360793116456</title>\n",
       "<polygon fill=\"none\" points=\"173,-1460.5 173,-1496.5 298,-1496.5 298,-1460.5 173,-1460.5\" stroke=\"#000000\"/>\n",
       "<text fill=\"#000000\" font-family=\"Times,serif\" font-size=\"14.00\" text-anchor=\"middle\" x=\"235.5\" y=\"-1474.8\">input_5: InputLayer</text>\n",
       "</g>\n",
       "<!-- 140360793113264 -->\n",
       "<g class=\"node\" id=\"node2\">\n",
       "<title>140360793113264</title>\n",
       "<polygon fill=\"none\" points=\"170.5,-1387.5 170.5,-1423.5 300.5,-1423.5 300.5,-1387.5 170.5,-1387.5\" stroke=\"#000000\"/>\n",
       "<text fill=\"#000000\" font-family=\"Times,serif\" font-size=\"14.00\" text-anchor=\"middle\" x=\"235.5\" y=\"-1401.8\">conv2d_20: Conv2D</text>\n",
       "</g>\n",
       "<!-- 140360793116456&#45;&gt;140360793113264 -->\n",
       "<g class=\"edge\" id=\"edge1\">\n",
       "<title>140360793116456-&gt;140360793113264</title>\n",
       "<path d=\"M235.5,-1460.4551C235.5,-1452.3828 235.5,-1442.6764 235.5,-1433.6817\" fill=\"none\" stroke=\"#000000\"/>\n",
       "<polygon fill=\"#000000\" points=\"239.0001,-1433.5903 235.5,-1423.5904 232.0001,-1433.5904 239.0001,-1433.5903\" stroke=\"#000000\"/>\n",
       "</g>\n",
       "<!-- 140360794669184 -->\n",
       "<g class=\"node\" id=\"node3\">\n",
       "<title>140360794669184</title>\n",
       "<polygon fill=\"none\" points=\"88,-1314.5 88,-1350.5 383,-1350.5 383,-1314.5 88,-1314.5\" stroke=\"#000000\"/>\n",
       "<text fill=\"#000000\" font-family=\"Times,serif\" font-size=\"14.00\" text-anchor=\"middle\" x=\"235.5\" y=\"-1328.8\">instance_normalization_20: InstanceNormalization</text>\n",
       "</g>\n",
       "<!-- 140360793113264&#45;&gt;140360794669184 -->\n",
       "<g class=\"edge\" id=\"edge2\">\n",
       "<title>140360793113264-&gt;140360794669184</title>\n",
       "<path d=\"M235.5,-1387.4551C235.5,-1379.3828 235.5,-1369.6764 235.5,-1360.6817\" fill=\"none\" stroke=\"#000000\"/>\n",
       "<polygon fill=\"#000000\" points=\"239.0001,-1360.5903 235.5,-1350.5904 232.0001,-1360.5904 239.0001,-1360.5903\" stroke=\"#000000\"/>\n",
       "</g>\n",
       "<!-- 140360794669296 -->\n",
       "<g class=\"node\" id=\"node4\">\n",
       "<title>140360794669296</title>\n",
       "<polygon fill=\"none\" points=\"183,-1241.5 183,-1277.5 288,-1277.5 288,-1241.5 183,-1241.5\" stroke=\"#000000\"/>\n",
       "<text fill=\"#000000\" font-family=\"Times,serif\" font-size=\"14.00\" text-anchor=\"middle\" x=\"235.5\" y=\"-1255.8\">re_lu_18: ReLU</text>\n",
       "</g>\n",
       "<!-- 140360794669184&#45;&gt;140360794669296 -->\n",
       "<g class=\"edge\" id=\"edge3\">\n",
       "<title>140360794669184-&gt;140360794669296</title>\n",
       "<path d=\"M235.5,-1314.4551C235.5,-1306.3828 235.5,-1296.6764 235.5,-1287.6817\" fill=\"none\" stroke=\"#000000\"/>\n",
       "<polygon fill=\"#000000\" points=\"239.0001,-1287.5903 235.5,-1277.5904 232.0001,-1287.5904 239.0001,-1287.5903\" stroke=\"#000000\"/>\n",
       "</g>\n",
       "<!-- 140360794669576 -->\n",
       "<g class=\"node\" id=\"node5\">\n",
       "<title>140360794669576</title>\n",
       "<polygon fill=\"none\" points=\"170.5,-1168.5 170.5,-1204.5 300.5,-1204.5 300.5,-1168.5 170.5,-1168.5\" stroke=\"#000000\"/>\n",
       "<text fill=\"#000000\" font-family=\"Times,serif\" font-size=\"14.00\" text-anchor=\"middle\" x=\"235.5\" y=\"-1182.8\">conv2d_21: Conv2D</text>\n",
       "</g>\n",
       "<!-- 140360794669296&#45;&gt;140360794669576 -->\n",
       "<g class=\"edge\" id=\"edge4\">\n",
       "<title>140360794669296-&gt;140360794669576</title>\n",
       "<path d=\"M235.5,-1241.4551C235.5,-1233.3828 235.5,-1223.6764 235.5,-1214.6817\" fill=\"none\" stroke=\"#000000\"/>\n",
       "<polygon fill=\"#000000\" points=\"239.0001,-1214.5903 235.5,-1204.5904 232.0001,-1214.5904 239.0001,-1214.5903\" stroke=\"#000000\"/>\n",
       "</g>\n",
       "<!-- 140360792409536 -->\n",
       "<g class=\"node\" id=\"node6\">\n",
       "<title>140360792409536</title>\n",
       "<polygon fill=\"none\" points=\"88,-1095.5 88,-1131.5 383,-1131.5 383,-1095.5 88,-1095.5\" stroke=\"#000000\"/>\n",
       "<text fill=\"#000000\" font-family=\"Times,serif\" font-size=\"14.00\" text-anchor=\"middle\" x=\"235.5\" y=\"-1109.8\">instance_normalization_21: InstanceNormalization</text>\n",
       "</g>\n",
       "<!-- 140360794669576&#45;&gt;140360792409536 -->\n",
       "<g class=\"edge\" id=\"edge5\">\n",
       "<title>140360794669576-&gt;140360792409536</title>\n",
       "<path d=\"M235.5,-1168.4551C235.5,-1160.3828 235.5,-1150.6764 235.5,-1141.6817\" fill=\"none\" stroke=\"#000000\"/>\n",
       "<polygon fill=\"#000000\" points=\"239.0001,-1141.5903 235.5,-1131.5904 232.0001,-1141.5904 239.0001,-1141.5903\" stroke=\"#000000\"/>\n",
       "</g>\n",
       "<!-- 140360792409760 -->\n",
       "<g class=\"node\" id=\"node7\">\n",
       "<title>140360792409760</title>\n",
       "<polygon fill=\"none\" points=\"183,-1022.5 183,-1058.5 288,-1058.5 288,-1022.5 183,-1022.5\" stroke=\"#000000\"/>\n",
       "<text fill=\"#000000\" font-family=\"Times,serif\" font-size=\"14.00\" text-anchor=\"middle\" x=\"235.5\" y=\"-1036.8\">re_lu_19: ReLU</text>\n",
       "</g>\n",
       "<!-- 140360792409536&#45;&gt;140360792409760 -->\n",
       "<g class=\"edge\" id=\"edge6\">\n",
       "<title>140360792409536-&gt;140360792409760</title>\n",
       "<path d=\"M235.5,-1095.4551C235.5,-1087.3828 235.5,-1077.6764 235.5,-1068.6817\" fill=\"none\" stroke=\"#000000\"/>\n",
       "<polygon fill=\"#000000\" points=\"239.0001,-1068.5903 235.5,-1058.5904 232.0001,-1068.5904 239.0001,-1068.5903\" stroke=\"#000000\"/>\n",
       "</g>\n",
       "<!-- 140360792531464 -->\n",
       "<g class=\"node\" id=\"node8\">\n",
       "<title>140360792531464</title>\n",
       "<polygon fill=\"none\" points=\"170.5,-949.5 170.5,-985.5 300.5,-985.5 300.5,-949.5 170.5,-949.5\" stroke=\"#000000\"/>\n",
       "<text fill=\"#000000\" font-family=\"Times,serif\" font-size=\"14.00\" text-anchor=\"middle\" x=\"235.5\" y=\"-963.8\">conv2d_22: Conv2D</text>\n",
       "</g>\n",
       "<!-- 140360792409760&#45;&gt;140360792531464 -->\n",
       "<g class=\"edge\" id=\"edge7\">\n",
       "<title>140360792409760-&gt;140360792531464</title>\n",
       "<path d=\"M235.5,-1022.4551C235.5,-1014.3828 235.5,-1004.6764 235.5,-995.6817\" fill=\"none\" stroke=\"#000000\"/>\n",
       "<polygon fill=\"#000000\" points=\"239.0001,-995.5903 235.5,-985.5904 232.0001,-995.5904 239.0001,-995.5903\" stroke=\"#000000\"/>\n",
       "</g>\n",
       "<!-- 140360792324360 -->\n",
       "<g class=\"node\" id=\"node9\">\n",
       "<title>140360792324360</title>\n",
       "<polygon fill=\"none\" points=\"88,-876.5 88,-912.5 383,-912.5 383,-876.5 88,-876.5\" stroke=\"#000000\"/>\n",
       "<text fill=\"#000000\" font-family=\"Times,serif\" font-size=\"14.00\" text-anchor=\"middle\" x=\"235.5\" y=\"-890.8\">instance_normalization_22: InstanceNormalization</text>\n",
       "</g>\n",
       "<!-- 140360792531464&#45;&gt;140360792324360 -->\n",
       "<g class=\"edge\" id=\"edge8\">\n",
       "<title>140360792531464-&gt;140360792324360</title>\n",
       "<path d=\"M235.5,-949.4551C235.5,-941.3828 235.5,-931.6764 235.5,-922.6817\" fill=\"none\" stroke=\"#000000\"/>\n",
       "<polygon fill=\"#000000\" points=\"239.0001,-922.5903 235.5,-912.5904 232.0001,-922.5904 239.0001,-922.5903\" stroke=\"#000000\"/>\n",
       "</g>\n",
       "<!-- 140360792324472 -->\n",
       "<g class=\"node\" id=\"node10\">\n",
       "<title>140360792324472</title>\n",
       "<polygon fill=\"none\" points=\"183,-803.5 183,-839.5 288,-839.5 288,-803.5 183,-803.5\" stroke=\"#000000\"/>\n",
       "<text fill=\"#000000\" font-family=\"Times,serif\" font-size=\"14.00\" text-anchor=\"middle\" x=\"235.5\" y=\"-817.8\">re_lu_20: ReLU</text>\n",
       "</g>\n",
       "<!-- 140360792324360&#45;&gt;140360792324472 -->\n",
       "<g class=\"edge\" id=\"edge9\">\n",
       "<title>140360792324360-&gt;140360792324472</title>\n",
       "<path d=\"M235.5,-876.4551C235.5,-868.3828 235.5,-858.6764 235.5,-849.6817\" fill=\"none\" stroke=\"#000000\"/>\n",
       "<polygon fill=\"#000000\" points=\"239.0001,-849.5903 235.5,-839.5904 232.0001,-849.5904 239.0001,-849.5903\" stroke=\"#000000\"/>\n",
       "</g>\n",
       "<!-- 140360792325200 -->\n",
       "<g class=\"node\" id=\"node11\">\n",
       "<title>140360792325200</title>\n",
       "<polygon fill=\"none\" points=\"170.5,-730.5 170.5,-766.5 300.5,-766.5 300.5,-730.5 170.5,-730.5\" stroke=\"#000000\"/>\n",
       "<text fill=\"#000000\" font-family=\"Times,serif\" font-size=\"14.00\" text-anchor=\"middle\" x=\"235.5\" y=\"-744.8\">conv2d_23: Conv2D</text>\n",
       "</g>\n",
       "<!-- 140360792324472&#45;&gt;140360792325200 -->\n",
       "<g class=\"edge\" id=\"edge10\">\n",
       "<title>140360792324472-&gt;140360792325200</title>\n",
       "<path d=\"M235.5,-803.4551C235.5,-795.3828 235.5,-785.6764 235.5,-776.6817\" fill=\"none\" stroke=\"#000000\"/>\n",
       "<polygon fill=\"#000000\" points=\"239.0001,-776.5903 235.5,-766.5904 232.0001,-776.5904 239.0001,-776.5903\" stroke=\"#000000\"/>\n",
       "</g>\n",
       "<!-- 140360791728200 -->\n",
       "<g class=\"node\" id=\"node12\">\n",
       "<title>140360791728200</title>\n",
       "<polygon fill=\"none\" points=\"88,-657.5 88,-693.5 383,-693.5 383,-657.5 88,-657.5\" stroke=\"#000000\"/>\n",
       "<text fill=\"#000000\" font-family=\"Times,serif\" font-size=\"14.00\" text-anchor=\"middle\" x=\"235.5\" y=\"-671.8\">instance_normalization_23: InstanceNormalization</text>\n",
       "</g>\n",
       "<!-- 140360792325200&#45;&gt;140360791728200 -->\n",
       "<g class=\"edge\" id=\"edge11\">\n",
       "<title>140360792325200-&gt;140360791728200</title>\n",
       "<path d=\"M235.5,-730.4551C235.5,-722.3828 235.5,-712.6764 235.5,-703.6817\" fill=\"none\" stroke=\"#000000\"/>\n",
       "<polygon fill=\"#000000\" points=\"239.0001,-703.5903 235.5,-693.5904 232.0001,-703.5904 239.0001,-703.5903\" stroke=\"#000000\"/>\n",
       "</g>\n",
       "<!-- 140360791590336 -->\n",
       "<g class=\"node\" id=\"node13\">\n",
       "<title>140360791590336</title>\n",
       "<polygon fill=\"none\" points=\"183,-584.5 183,-620.5 288,-620.5 288,-584.5 183,-584.5\" stroke=\"#000000\"/>\n",
       "<text fill=\"#000000\" font-family=\"Times,serif\" font-size=\"14.00\" text-anchor=\"middle\" x=\"235.5\" y=\"-598.8\">re_lu_21: ReLU</text>\n",
       "</g>\n",
       "<!-- 140360791728200&#45;&gt;140360791590336 -->\n",
       "<g class=\"edge\" id=\"edge12\">\n",
       "<title>140360791728200-&gt;140360791590336</title>\n",
       "<path d=\"M235.5,-657.4551C235.5,-649.3828 235.5,-639.6764 235.5,-630.6817\" fill=\"none\" stroke=\"#000000\"/>\n",
       "<polygon fill=\"#000000\" points=\"239.0001,-630.5903 235.5,-620.5904 232.0001,-630.5904 239.0001,-630.5903\" stroke=\"#000000\"/>\n",
       "</g>\n",
       "<!-- 140360791592632 -->\n",
       "<g class=\"node\" id=\"node14\">\n",
       "<title>140360791592632</title>\n",
       "<polygon fill=\"none\" points=\"124.5,-511.5 124.5,-547.5 254.5,-547.5 254.5,-511.5 124.5,-511.5\" stroke=\"#000000\"/>\n",
       "<text fill=\"#000000\" font-family=\"Times,serif\" font-size=\"14.00\" text-anchor=\"middle\" x=\"189.5\" y=\"-525.8\">conv2d_24: Conv2D</text>\n",
       "</g>\n",
       "<!-- 140360791590336&#45;&gt;140360791592632 -->\n",
       "<g class=\"edge\" id=\"edge13\">\n",
       "<title>140360791590336-&gt;140360791592632</title>\n",
       "<path d=\"M224.1292,-584.4551C218.7662,-575.9441 212.2583,-565.6165 206.3385,-556.2219\" fill=\"none\" stroke=\"#000000\"/>\n",
       "<polygon fill=\"#000000\" points=\"209.1918,-554.1848 200.8994,-547.5904 203.2695,-557.9167 209.1918,-554.1848\" stroke=\"#000000\"/>\n",
       "</g>\n",
       "<!-- 140360791525528 -->\n",
       "<g class=\"node\" id=\"node16\">\n",
       "<title>140360791525528</title>\n",
       "<polygon fill=\"none\" points=\"195.5,-365.5 195.5,-401.5 275.5,-401.5 275.5,-365.5 195.5,-365.5\" stroke=\"#000000\"/>\n",
       "<text fill=\"#000000\" font-family=\"Times,serif\" font-size=\"14.00\" text-anchor=\"middle\" x=\"235.5\" y=\"-379.8\">add_6: Add</text>\n",
       "</g>\n",
       "<!-- 140360791590336&#45;&gt;140360791525528 -->\n",
       "<g class=\"edge\" id=\"edge15\">\n",
       "<title>140360791590336-&gt;140360791525528</title>\n",
       "<path d=\"M249.1854,-584.2942C266.0579,-560.5972 293.8109,-517.2099 304.5,-475 308.5369,-459.0588 311.6696,-452.7992 304.5,-438 298.6661,-425.9578 288.7376,-415.7726 278.2025,-407.5845\" fill=\"none\" stroke=\"#000000\"/>\n",
       "<polygon fill=\"#000000\" points=\"280.2399,-404.7386 270.0858,-401.7146 276.1379,-410.4107 280.2399,-404.7386\" stroke=\"#000000\"/>\n",
       "</g>\n",
       "<!-- 140360791525416 -->\n",
       "<g class=\"node\" id=\"node15\">\n",
       "<title>140360791525416</title>\n",
       "<polygon fill=\"none\" points=\"0,-438.5 0,-474.5 295,-474.5 295,-438.5 0,-438.5\" stroke=\"#000000\"/>\n",
       "<text fill=\"#000000\" font-family=\"Times,serif\" font-size=\"14.00\" text-anchor=\"middle\" x=\"147.5\" y=\"-452.8\">instance_normalization_24: InstanceNormalization</text>\n",
       "</g>\n",
       "<!-- 140360791592632&#45;&gt;140360791525416 -->\n",
       "<g class=\"edge\" id=\"edge14\">\n",
       "<title>140360791592632-&gt;140360791525416</title>\n",
       "<path d=\"M179.118,-511.4551C174.2718,-503.0319 168.4018,-492.8292 163.0416,-483.5128\" fill=\"none\" stroke=\"#000000\"/>\n",
       "<polygon fill=\"#000000\" points=\"165.9289,-481.5127 157.9082,-474.5904 159.8614,-485.0036 165.9289,-481.5127\" stroke=\"#000000\"/>\n",
       "</g>\n",
       "<!-- 140360791525416&#45;&gt;140360791525528 -->\n",
       "<g class=\"edge\" id=\"edge16\">\n",
       "<title>140360791525416-&gt;140360791525528</title>\n",
       "<path d=\"M169.2528,-438.4551C180.253,-429.3299 193.7706,-418.1165 205.7203,-408.2036\" fill=\"none\" stroke=\"#000000\"/>\n",
       "<polygon fill=\"#000000\" points=\"208.2305,-410.6688 213.6924,-401.5904 203.7613,-405.2812 208.2305,-410.6688\" stroke=\"#000000\"/>\n",
       "</g>\n",
       "<!-- 140360791201384 -->\n",
       "<g class=\"node\" id=\"node17\">\n",
       "<title>140360791201384</title>\n",
       "<polygon fill=\"none\" points=\"183,-292.5 183,-328.5 288,-328.5 288,-292.5 183,-292.5\" stroke=\"#000000\"/>\n",
       "<text fill=\"#000000\" font-family=\"Times,serif\" font-size=\"14.00\" text-anchor=\"middle\" x=\"235.5\" y=\"-306.8\">re_lu_22: ReLU</text>\n",
       "</g>\n",
       "<!-- 140360791525528&#45;&gt;140360791201384 -->\n",
       "<g class=\"edge\" id=\"edge17\">\n",
       "<title>140360791525528-&gt;140360791201384</title>\n",
       "<path d=\"M235.5,-365.4551C235.5,-357.3828 235.5,-347.6764 235.5,-338.6817\" fill=\"none\" stroke=\"#000000\"/>\n",
       "<polygon fill=\"#000000\" points=\"239.0001,-338.5903 235.5,-328.5904 232.0001,-338.5904 239.0001,-338.5903\" stroke=\"#000000\"/>\n",
       "</g>\n",
       "<!-- 140360791199872 -->\n",
       "<g class=\"node\" id=\"node18\">\n",
       "<title>140360791199872</title>\n",
       "<polygon fill=\"none\" points=\"124.5,-219.5 124.5,-255.5 254.5,-255.5 254.5,-219.5 124.5,-219.5\" stroke=\"#000000\"/>\n",
       "<text fill=\"#000000\" font-family=\"Times,serif\" font-size=\"14.00\" text-anchor=\"middle\" x=\"189.5\" y=\"-233.8\">conv2d_25: Conv2D</text>\n",
       "</g>\n",
       "<!-- 140360791201384&#45;&gt;140360791199872 -->\n",
       "<g class=\"edge\" id=\"edge18\">\n",
       "<title>140360791201384-&gt;140360791199872</title>\n",
       "<path d=\"M224.1292,-292.4551C218.7662,-283.9441 212.2583,-273.6165 206.3385,-264.2219\" fill=\"none\" stroke=\"#000000\"/>\n",
       "<polygon fill=\"#000000\" points=\"209.1918,-262.1848 200.8994,-255.5904 203.2695,-265.9167 209.1918,-262.1848\" stroke=\"#000000\"/>\n",
       "</g>\n",
       "<!-- 140360791297944 -->\n",
       "<g class=\"node\" id=\"node20\">\n",
       "<title>140360791297944</title>\n",
       "<polygon fill=\"none\" points=\"195.5,-73.5 195.5,-109.5 275.5,-109.5 275.5,-73.5 195.5,-73.5\" stroke=\"#000000\"/>\n",
       "<text fill=\"#000000\" font-family=\"Times,serif\" font-size=\"14.00\" text-anchor=\"middle\" x=\"235.5\" y=\"-87.8\">add_7: Add</text>\n",
       "</g>\n",
       "<!-- 140360791201384&#45;&gt;140360791297944 -->\n",
       "<g class=\"edge\" id=\"edge20\">\n",
       "<title>140360791201384-&gt;140360791297944</title>\n",
       "<path d=\"M249.1854,-292.2942C266.0579,-268.5972 293.8109,-225.2099 304.5,-183 308.5369,-167.0588 311.6696,-160.7992 304.5,-146 298.6661,-133.9578 288.7376,-123.7726 278.2025,-115.5845\" fill=\"none\" stroke=\"#000000\"/>\n",
       "<polygon fill=\"#000000\" points=\"280.2399,-112.7386 270.0858,-109.7146 276.1379,-118.4107 280.2399,-112.7386\" stroke=\"#000000\"/>\n",
       "</g>\n",
       "<!-- 140360791298000 -->\n",
       "<g class=\"node\" id=\"node19\">\n",
       "<title>140360791298000</title>\n",
       "<polygon fill=\"none\" points=\"0,-146.5 0,-182.5 295,-182.5 295,-146.5 0,-146.5\" stroke=\"#000000\"/>\n",
       "<text fill=\"#000000\" font-family=\"Times,serif\" font-size=\"14.00\" text-anchor=\"middle\" x=\"147.5\" y=\"-160.8\">instance_normalization_25: InstanceNormalization</text>\n",
       "</g>\n",
       "<!-- 140360791199872&#45;&gt;140360791298000 -->\n",
       "<g class=\"edge\" id=\"edge19\">\n",
       "<title>140360791199872-&gt;140360791298000</title>\n",
       "<path d=\"M179.118,-219.4551C174.2718,-211.0319 168.4018,-200.8292 163.0416,-191.5128\" fill=\"none\" stroke=\"#000000\"/>\n",
       "<polygon fill=\"#000000\" points=\"165.9289,-189.5127 157.9082,-182.5904 159.8614,-193.0036 165.9289,-189.5127\" stroke=\"#000000\"/>\n",
       "</g>\n",
       "<!-- 140360791298000&#45;&gt;140360791297944 -->\n",
       "<g class=\"edge\" id=\"edge21\">\n",
       "<title>140360791298000-&gt;140360791297944</title>\n",
       "<path d=\"M169.2528,-146.4551C180.253,-137.3299 193.7706,-126.1165 205.7203,-116.2036\" fill=\"none\" stroke=\"#000000\"/>\n",
       "<polygon fill=\"#000000\" points=\"208.2305,-118.6688 213.6924,-109.5904 203.7613,-113.2812 208.2305,-118.6688\" stroke=\"#000000\"/>\n",
       "</g>\n",
       "<!-- 140360791031648 -->\n",
       "<g class=\"node\" id=\"node21\">\n",
       "<title>140360791031648</title>\n",
       "<polygon fill=\"none\" points=\"183,-.5 183,-36.5 288,-36.5 288,-.5 183,-.5\" stroke=\"#000000\"/>\n",
       "<text fill=\"#000000\" font-family=\"Times,serif\" font-size=\"14.00\" text-anchor=\"middle\" x=\"235.5\" y=\"-14.8\">re_lu_23: ReLU</text>\n",
       "</g>\n",
       "<!-- 140360791297944&#45;&gt;140360791031648 -->\n",
       "<g class=\"edge\" id=\"edge22\">\n",
       "<title>140360791297944-&gt;140360791031648</title>\n",
       "<path d=\"M235.5,-73.4551C235.5,-65.3828 235.5,-55.6764 235.5,-46.6817\" fill=\"none\" stroke=\"#000000\"/>\n",
       "<polygon fill=\"#000000\" points=\"239.0001,-46.5903 235.5,-36.5904 232.0001,-46.5904 239.0001,-46.5903\" stroke=\"#000000\"/>\n",
       "</g>\n",
       "</g>\n",
       "</svg>"
      ],
      "text/plain": [
       "<IPython.core.display.SVG object>"
      ]
     },
     "execution_count": 13,
     "metadata": {},
     "output_type": "execute_result"
    }
   ],
   "source": [
    "model = content_encoder(img_shape)\n",
    "plot_model(model, to_file='model.png')\n",
    "SVG(model_to_dot(model).create(prog='dot', format='svg'))"
   ]
  },
  {
   "cell_type": "markdown",
   "metadata": {},
   "source": [
    "<h3>Class Encoder</h3>"
   ]
  },
  {
   "cell_type": "code",
   "execution_count": 19,
   "metadata": {},
   "outputs": [],
   "source": [
    "def class_encoder_k(shape):\n",
    "    Y_input = Input(shape=shape)\n",
    "    \n",
    "    Y = Conv2D(64, kernel_size=1, strides=1, padding='same')(Y_input)\n",
    "    Y = ReLU()(Y)\n",
    "    \n",
    "    Y = Conv2D(128, kernel_size=1, strides=2, padding='same')(Y)\n",
    "    Y = ReLU()(Y)\n",
    "    \n",
    "    Y = Conv2D(256, kernel_size=1, strides=2, padding='same')(Y)\n",
    "    Y = ReLU()(Y)\n",
    "    \n",
    "    Y = Conv2D(512, kernel_size=1, strides=2, padding='same')(Y)\n",
    "    Y = ReLU()(Y)\n",
    "    \n",
    "    Y = Conv2D(1024, kernel_size=1, strides=2, padding='same')(Y)\n",
    "    Y = ReLU()(Y)\n",
    "    \n",
    "    Y = AveragePooling2D()(Y)\n",
    "    \n",
    "#     Y = Dense(512)(Y)\n",
    "    Y = Flatten()(Y)\n",
    "    \n",
    "    return Y"
   ]
  },
  {
   "cell_type": "code",
   "execution_count": 20,
   "metadata": {},
   "outputs": [],
   "source": [
    "k = 1"
   ]
  },
  {
   "cell_type": "code",
   "execution_count": 36,
   "metadata": {},
   "outputs": [],
   "source": [
    "def class_encoder(Y):\n",
    "    total = 0\n",
    "    for i in range (0, k):\n",
    "        val = class_encoder_k(Y.shape)\n",
    "        total = np.add(total, val)\n",
    "    mean = tf.math.reduce_mean(total)\n",
    "    print(mean)\n",
    "    return mean"
   ]
  },
  {
   "cell_type": "code",
   "execution_count": 34,
   "metadata": {},
   "outputs": [
    {
     "name": "stdout",
     "output_type": "stream",
     "text": [
      "Tensor(\"Mean_1:0\", shape=(), dtype=float32)\n"
     ]
    }
   ],
   "source": [
    "mean = class_encoder()"
   ]
  },
  {
   "cell_type": "markdown",
   "metadata": {},
   "source": [
    "<h3>Decoder</h3>"
   ]
  },
  {
   "cell_type": "code",
   "execution_count": 5,
   "metadata": {},
   "outputs": [],
   "source": [
    "def adain_resblk(X, f, filters, stage, s):\n",
    "    conv_name_base = 'adain_resblk_' + stage\n",
    "    F1, F2, F3 = filters\n",
    "    \n",
    "    X_shortcut = X\n",
    "    print(X_shortcut)\n",
    "    \n",
    "    X = Conv2D(filters=F1, kernel_size=(1, 1), strides=(s, s), padding='valid', name=conv_name_base + '2a', kernel_initializer=glorot_uniform(seed=0))(X)\n",
    "    X = InstanceNormalization(beta_regularizer=beta_2, gamma_regularizer=gamma)(X)\n",
    "    X = ReLU()(X)\n",
    "    print(X)\n",
    "    \n",
    "    X = Conv2D(filters=F2, kernel_size=(f, f), strides=(1, 1), padding='same', name=conv_name_base + '2b', kernel_initializer=glorot_uniform(seed=0))(X)\n",
    "    X = InstanceNormalization(beta_regularizer=beta_2, gamma_regularizer=gamma)(X)\n",
    "    X = ReLU()(X)\n",
    "    print(X)\n",
    "    \n",
    "    X = Conv2D(filters=F3, kernel_size=(1, 1), strides=(1, 1), padding='valid', name=conv_name_base + '2c', kernel_initializer=glorot_uniform(seed=0))(X)\n",
    "    \n",
    "    X_shortcut = Conv2D(filters=F3, kernel_size=(1, 1), strides=(s, s), padding='valid', name=conv_name_base + '1', kernel_initializer=glorot_uniform(seed=0))(X_shortcut)\n",
    "    \n",
    "    print(X, X_shortcut)\n",
    "    X = Add()([X, X_shortcut])\n",
    "    X = ReLU()(X)\n",
    "    \n",
    "    return X"
   ]
  },
  {
   "cell_type": "code",
   "execution_count": null,
   "metadata": {},
   "outputs": [],
   "source": [
    "def conv(X, f_size):\n",
    "    X = Conv2D(X, kernel_size=f_size, strides=2, padding='valid')(X)\n",
    "    X = InstanceNormalization()(X)\n",
    "    X = ReLU()(X)\n",
    "    return X"
   ]
  },
  {
   "cell_type": "code",
   "execution_count": 6,
   "metadata": {},
   "outputs": [],
   "source": [
    "def decoder(content_code, class_code):\n",
    "    X = Dense(256)(class_code)\n",
    "    X = Dense(256)(X)\n",
    "    X = Dense(256)(X)\n",
    "    X = Flatten()(X)\n",
    "    \n",
    "    beta = np.var(X, axis=(1,2))\n",
    "    beta_2 = beta**2\n",
    "    gamma = np.mean(X, axis=(1,2))\n",
    "    \n",
    "    Y = adain_resblk(content_code, f=3, filters=[512, 512, 512], stage=1, s=1)\n",
    "    Y = adain_resblk(Y, f=3, filters=[512, 512, 512], stage=2, s=1)\n",
    "    Y = conv(Y, f_size=256)\n",
    "    Y = conv(Y, f_size=128)\n",
    "    Y = conv(Y, f_size=64)\n",
    "    Y = conv(Y, f_size=3)\n",
    "    \n",
    "    return Y"
   ]
  },
  {
   "cell_type": "code",
   "execution_count": 42,
   "metadata": {},
   "outputs": [],
   "source": [
    "def generator(X_input, Y):\n",
    "    content_code = content_encoder(X_input.shape)\n",
    "    class_code = class_encoder(Y)\n",
    "    X_gen = decoder(content_code, class_code)\n",
    "    model = Model(inputs=[X_input, Y], outputs=X_gen)\n",
    "    return model"
   ]
  },
  {
   "cell_type": "markdown",
   "metadata": {},
   "source": [
    "<h2>Discriminator</h2>"
   ]
  },
  {
   "cell_type": "code",
   "execution_count": 47,
   "metadata": {},
   "outputs": [],
   "source": [
    "def res_block(X, f, filters, stage, s):\n",
    "    conv_name_base = 'resblk_' + str(stage)\n",
    "    F1, F2, F3 = filters\n",
    "    \n",
    "    X_shortcut = X\n",
    "    print(X_shortcut)\n",
    "    \n",
    "    X = Conv2D(filters=F1, kernel_size=(1, 1), strides=(s, s), padding='valid', name=conv_name_base + 'a', kernel_initializer=glorot_uniform(seed=0))(X)\n",
    "    X = LeakyReLU()(X)\n",
    "    print(X)\n",
    "    \n",
    "    X = Conv2D(filters=F2, kernel_size=(f, f), strides=(1, 1), padding='same', name=conv_name_base + 'b', kernel_initializer=glorot_uniform(seed=0))(X)\n",
    "    X = LeakyReLU()(X)\n",
    "    print(X)\n",
    "    \n",
    "    X = Conv2D(filters=F3, kernel_size=(1, 1), strides=(1, 1), padding='valid', name=conv_name_base + 'c', kernel_initializer=glorot_uniform(seed=0))(X)\n",
    "    \n",
    "    X_shortcut = Conv2D(filters=F3, kernel_size=(1, 1), strides=(s, s), padding='valid', name=conv_name_base + '1', kernel_initializer=glorot_uniform(seed=0))(X_shortcut)\n",
    "    \n",
    "    print(X, X_shortcut)\n",
    "    X = Add()([X, X_shortcut])\n",
    "    X = LeakyReLU()(X)\n",
    "    \n",
    "    return X"
   ]
  },
  {
   "cell_type": "code",
   "execution_count": 45,
   "metadata": {},
   "outputs": [],
   "source": [
    "def discriminator():\n",
    "    X_input = Input(img_shape)\n",
    "\n",
    "    X = Conv2D(64, kernel_size=3, strides=2, padding='same')(X_input)\n",
    "\n",
    "    X = res_block(X, f=3, filters=[64, 64, 128], stage=1, s=1)\n",
    "    X = res_block(X, f=3, filters=[128, 128, 128], stage=2, s=1)\n",
    "\n",
    "    X = AveragePooling2D(strides=2)(X)\n",
    "\n",
    "    X = res_block(X, f=3, filters=[128, 128, 256], stage=3, s=1)\n",
    "    X = res_block(X, f=3, filters=[256, 256, 256], stage=4, s=1)\n",
    "\n",
    "    X = AveragePooling2D(strides=2)(X)\n",
    "\n",
    "    X = res_block(X, f=3, filters=[256, 256, 512], stage=6, s=1)\n",
    "    X = res_block(X, f=3, filters=[512, 512, 512], stage=7, s=1)\n",
    "\n",
    "    X = AveragePooling2D(strides=2)(X)\n",
    "\n",
    "    X = res_block(X, f=3, filters=[512, 512, 1024], stage=8, s=1)\n",
    "    X = res_block(X, f=3, filters=[1024, 1024, 1024], stage=9, s=1)\n",
    "\n",
    "    X = AveragePooling2D(strides=2)(X)\n",
    "\n",
    "    X = res_block(X, f=3, filters=[1024, 1024, 1024], stage=11, s=1)\n",
    "    X = res_block(X, f=3, filters=[1024, 1024, 1024], stage=12, s=1)\n",
    "\n",
    "    number_source_class = 10\n",
    "    X = Conv2D(number_source_class, kernel_size=1, strides=1, padding='same')(X)\n",
    "    \n",
    "    model = Model(inputs=X_input, outputs=X)\n",
    "    return model"
   ]
  },
  {
   "cell_type": "code",
   "execution_count": 46,
   "metadata": {},
   "outputs": [
    {
     "name": "stdout",
     "output_type": "stream",
     "text": [
      "Tensor(\"conv2d_37/BiasAdd:0\", shape=(?, 64, 64, 64), dtype=float32)\n",
      "Tensor(\"leaky_re_lu_91/LeakyRelu:0\", shape=(?, 64, 64, 64), dtype=float32)\n",
      "Tensor(\"leaky_re_lu_92/LeakyRelu:0\", shape=(?, 64, 64, 64), dtype=float32)\n",
      "Tensor(\"resblk_12c_6/BiasAdd:0\", shape=(?, 64, 64, 128), dtype=float32) Tensor(\"resblk_11_6/BiasAdd:0\", shape=(?, 64, 64, 128), dtype=float32)\n",
      "Tensor(\"leaky_re_lu_93/LeakyRelu:0\", shape=(?, 64, 64, 128), dtype=float32)\n",
      "Tensor(\"leaky_re_lu_94/LeakyRelu:0\", shape=(?, 64, 64, 128), dtype=float32)\n",
      "Tensor(\"leaky_re_lu_95/LeakyRelu:0\", shape=(?, 64, 64, 128), dtype=float32)\n",
      "Tensor(\"resblk_22c_6/BiasAdd:0\", shape=(?, 64, 64, 128), dtype=float32) Tensor(\"resblk_21_6/BiasAdd:0\", shape=(?, 64, 64, 128), dtype=float32)\n",
      "Tensor(\"average_pooling2d_19/AvgPool:0\", shape=(?, 32, 32, 128), dtype=float32)\n",
      "Tensor(\"leaky_re_lu_97/LeakyRelu:0\", shape=(?, 32, 32, 128), dtype=float32)\n",
      "Tensor(\"leaky_re_lu_98/LeakyRelu:0\", shape=(?, 32, 32, 128), dtype=float32)\n",
      "Tensor(\"resblk_32c_6/BiasAdd:0\", shape=(?, 32, 32, 256), dtype=float32) Tensor(\"resblk_31_6/BiasAdd:0\", shape=(?, 32, 32, 256), dtype=float32)\n",
      "Tensor(\"leaky_re_lu_99/LeakyRelu:0\", shape=(?, 32, 32, 256), dtype=float32)\n",
      "Tensor(\"leaky_re_lu_100/LeakyRelu:0\", shape=(?, 32, 32, 256), dtype=float32)\n",
      "Tensor(\"leaky_re_lu_101/LeakyRelu:0\", shape=(?, 32, 32, 256), dtype=float32)\n",
      "Tensor(\"resblk_42c_6/BiasAdd:0\", shape=(?, 32, 32, 256), dtype=float32) Tensor(\"resblk_41_6/BiasAdd:0\", shape=(?, 32, 32, 256), dtype=float32)\n",
      "Tensor(\"average_pooling2d_20/AvgPool:0\", shape=(?, 16, 16, 256), dtype=float32)\n",
      "Tensor(\"leaky_re_lu_103/LeakyRelu:0\", shape=(?, 16, 16, 256), dtype=float32)\n",
      "Tensor(\"leaky_re_lu_104/LeakyRelu:0\", shape=(?, 16, 16, 256), dtype=float32)\n",
      "Tensor(\"resblk_62c/BiasAdd:0\", shape=(?, 16, 16, 512), dtype=float32) Tensor(\"resblk_61/BiasAdd:0\", shape=(?, 16, 16, 512), dtype=float32)\n",
      "Tensor(\"leaky_re_lu_105/LeakyRelu:0\", shape=(?, 16, 16, 512), dtype=float32)\n",
      "Tensor(\"leaky_re_lu_106/LeakyRelu:0\", shape=(?, 16, 16, 512), dtype=float32)\n",
      "Tensor(\"leaky_re_lu_107/LeakyRelu:0\", shape=(?, 16, 16, 512), dtype=float32)\n",
      "Tensor(\"resblk_72c/BiasAdd:0\", shape=(?, 16, 16, 512), dtype=float32) Tensor(\"resblk_71/BiasAdd:0\", shape=(?, 16, 16, 512), dtype=float32)\n",
      "Tensor(\"average_pooling2d_21/AvgPool:0\", shape=(?, 8, 8, 512), dtype=float32)\n",
      "Tensor(\"leaky_re_lu_109/LeakyRelu:0\", shape=(?, 8, 8, 512), dtype=float32)\n",
      "Tensor(\"leaky_re_lu_110/LeakyRelu:0\", shape=(?, 8, 8, 512), dtype=float32)\n",
      "Tensor(\"resblk_82c/BiasAdd:0\", shape=(?, 8, 8, 1024), dtype=float32) Tensor(\"resblk_81/BiasAdd:0\", shape=(?, 8, 8, 1024), dtype=float32)\n",
      "Tensor(\"leaky_re_lu_111/LeakyRelu:0\", shape=(?, 8, 8, 1024), dtype=float32)\n",
      "Tensor(\"leaky_re_lu_112/LeakyRelu:0\", shape=(?, 8, 8, 1024), dtype=float32)\n",
      "Tensor(\"leaky_re_lu_113/LeakyRelu:0\", shape=(?, 8, 8, 1024), dtype=float32)\n",
      "Tensor(\"resblk_92c/BiasAdd:0\", shape=(?, 8, 8, 1024), dtype=float32) Tensor(\"resblk_91/BiasAdd:0\", shape=(?, 8, 8, 1024), dtype=float32)\n",
      "Tensor(\"average_pooling2d_22/AvgPool:0\", shape=(?, 4, 4, 1024), dtype=float32)\n",
      "Tensor(\"leaky_re_lu_115/LeakyRelu:0\", shape=(?, 4, 4, 1024), dtype=float32)\n",
      "Tensor(\"leaky_re_lu_116/LeakyRelu:0\", shape=(?, 4, 4, 1024), dtype=float32)\n",
      "Tensor(\"resblk_112c/BiasAdd:0\", shape=(?, 4, 4, 1024), dtype=float32) Tensor(\"resblk_111/BiasAdd:0\", shape=(?, 4, 4, 1024), dtype=float32)\n",
      "Tensor(\"leaky_re_lu_117/LeakyRelu:0\", shape=(?, 4, 4, 1024), dtype=float32)\n",
      "Tensor(\"leaky_re_lu_118/LeakyRelu:0\", shape=(?, 4, 4, 1024), dtype=float32)\n",
      "Tensor(\"leaky_re_lu_119/LeakyRelu:0\", shape=(?, 4, 4, 1024), dtype=float32)\n",
      "Tensor(\"resblk_122c/BiasAdd:0\", shape=(?, 4, 4, 1024), dtype=float32) Tensor(\"resblk_121/BiasAdd:0\", shape=(?, 4, 4, 1024), dtype=float32)\n"
     ]
    },
    {
     "data": {
      "text/plain": [
       "<keras.engine.training.Model at 0x7f6e31bb0320>"
      ]
     },
     "execution_count": 46,
     "metadata": {},
     "output_type": "execute_result"
    }
   ],
   "source": [
    "discriminator()"
   ]
  },
  {
   "cell_type": "markdown",
   "metadata": {},
   "source": [
    "<h2>Load data</h2>"
   ]
  },
  {
   "cell_type": "code",
   "execution_count": 2,
   "metadata": {},
   "outputs": [],
   "source": [
    "import scipy.io\n",
    "setid = scipy.io.loadmat('datasets/setid.mat')"
   ]
  },
  {
   "cell_type": "code",
   "execution_count": 3,
   "metadata": {},
   "outputs": [
    {
     "data": {
      "text/plain": [
       "{'__header__': b'MATLAB 5.0 MAT-file, Platform: GLNX86, Created on: Thu Feb 19 17:38:58 2009',\n",
       " '__version__': '1.0',\n",
       " '__globals__': [],\n",
       " 'trnid': array([[6765, 6755, 6768, ..., 8026, 8036, 8041]], dtype=uint16),\n",
       " 'valid': array([[6773, 6767, 6739, ..., 8028, 8008, 8030]], dtype=uint16),\n",
       " 'tstid': array([[6734, 6735, 6737, ..., 8044, 8045, 8047]], dtype=uint16)}"
      ]
     },
     "execution_count": 3,
     "metadata": {},
     "output_type": "execute_result"
    }
   ],
   "source": [
    "setid"
   ]
  },
  {
   "cell_type": "code",
   "execution_count": 4,
   "metadata": {},
   "outputs": [],
   "source": [
    "imagelabels = scipy.io.loadmat('datasets/imagelabels.mat')"
   ]
  },
  {
   "cell_type": "code",
   "execution_count": 5,
   "metadata": {},
   "outputs": [
    {
     "data": {
      "text/plain": [
       "{'__header__': b'MATLAB 5.0 MAT-file, Platform: GLNX86, Created on: Thu Feb 19 15:43:33 2009',\n",
       " '__version__': '1.0',\n",
       " '__globals__': [],\n",
       " 'labels': array([[77, 77, 77, ..., 62, 62, 62]], dtype=uint8)}"
      ]
     },
     "execution_count": 5,
     "metadata": {},
     "output_type": "execute_result"
    }
   ],
   "source": [
    "imagelabels"
   ]
  },
  {
   "cell_type": "code",
   "execution_count": 14,
   "metadata": {},
   "outputs": [
    {
     "data": {
      "text/plain": [
       "77"
      ]
     },
     "execution_count": 14,
     "metadata": {},
     "output_type": "execute_result"
    }
   ],
   "source": [
    "imagelabels['labels'][0][0]"
   ]
  },
  {
   "cell_type": "code",
   "execution_count": 7,
   "metadata": {},
   "outputs": [
    {
     "name": "stdout",
     "output_type": "stream",
     "text": [
      "1 102\n"
     ]
    }
   ],
   "source": [
    "labels = np.array(imagelabels['labels'])\n",
    "print(np.amin(labels), np.amax(labels))"
   ]
  },
  {
   "cell_type": "code",
   "execution_count": 15,
   "metadata": {},
   "outputs": [
    {
     "name": "stdout",
     "output_type": "stream",
     "text": [
      "251\n"
     ]
    }
   ],
   "source": [
    "count = 0\n",
    "for i in range(imagelabels['labels'].size):\n",
    "    if (imagelabels['labels'][0][i] == 77):\n",
    "        count = count + 1\n",
    "print(count)"
   ]
  },
  {
   "cell_type": "code",
   "execution_count": 25,
   "metadata": {},
   "outputs": [],
   "source": [
    "def load_data(self, domain, batch_size=1, is_testing=False):\n",
    "    data_type = \"train%s\" % domain if not is_testing else \"test%s\" % domain\n",
    "    path = glob('./datasets/%s/%s/*' % (self.dataset_name, data_type))\n",
    "\n",
    "    batch_images = np.random.choice(path, size=batch_size)\n",
    "\n",
    "    imgs = []\n",
    "    for img_path in batch_images:\n",
    "        img = self.imread(img_path)\n",
    "        if not is_testing:\n",
    "            img = scipy.misc.imresize(img, self.img_res)\n",
    "\n",
    "            if np.random.random() > 0.5:\n",
    "                img = np.fliplr(img)\n",
    "        else:\n",
    "            img = scipy.misc.imresize(img, self.img_res)\n",
    "        imgs.append(img)\n",
    "\n",
    "    imgs = np.array(imgs)/127.5 - 1.\n",
    "\n",
    "    return imgs"
   ]
  },
  {
   "cell_type": "code",
   "execution_count": null,
   "metadata": {},
   "outputs": [],
   "source": [
    "def load_batch(self, batch_size=1, is_testing=False):\n",
    "    data_type = \"train\" if not is_testing else \"val\"\n",
    "    path_A = glob('./datasets/%s/%sA/*' % (self.dataset_name, data_type))\n",
    "    path_B = glob('./datasets/%s/%sB/*' % (self.dataset_name, data_type))\n",
    "\n",
    "    self.n_batches = int(min(len(path_A), len(path_B)) / batch_size)\n",
    "    total_samples = self.n_batches * batch_size\n",
    "\n",
    "    # Sample n_batches * batch_size from each path list so that model sees all\n",
    "    # samples from both domains\n",
    "    path_A = np.random.choice(path_A, total_samples, replace=False)\n",
    "    path_B = np.random.choice(path_B, total_samples, replace=False)\n",
    "\n",
    "    for i in range(self.n_batches-1):\n",
    "        batch_A = path_A[i*batch_size:(i+1)*batch_size]\n",
    "        batch_B = path_B[i*batch_size:(i+1)*batch_size]\n",
    "        imgs_A, imgs_B = [], []\n",
    "        for img_A, img_B in zip(batch_A, batch_B):\n",
    "            img_A = self.imread(img_A)\n",
    "            img_B = self.imread(img_B)\n",
    "\n",
    "            img_A = scipy.misc.imresize(img_A, self.img_res)\n",
    "            img_B = scipy.misc.imresize(img_B, self.img_res)\n",
    "\n",
    "            if not is_testing and np.random.random() > 0.5:\n",
    "                    img_A = np.fliplr(img_A)\n",
    "                    img_B = np.fliplr(img_B)\n",
    "\n",
    "            imgs_A.append(img_A)\n",
    "            imgs_B.append(img_B)\n",
    "\n",
    "        imgs_A = np.array(imgs_A)/127.5 - 1.\n",
    "        imgs_B = np.array(imgs_B)/127.5 - 1.\n",
    "\n",
    "        yield imgs_A, imgs_B"
   ]
  },
  {
   "cell_type": "code",
   "execution_count": 26,
   "metadata": {},
   "outputs": [],
   "source": [
    "def load_img(path):\n",
    "    img = imageio.imread(path)\n",
    "    img = scipy.misc.imresize(img, self.img_res)\n",
    "    img = img/127.5 - 1.\n",
    "    return img[np.newaxis, :, :, :]"
   ]
  },
  {
   "cell_type": "code",
   "execution_count": 52,
   "metadata": {},
   "outputs": [],
   "source": [
    "disc_patch = (70, 70, 1)\n",
    "source_classes = 100"
   ]
  },
  {
   "cell_type": "markdown",
   "metadata": {},
   "source": [
    "<h2>Train</h2>"
   ]
  },
  {
   "cell_type": "code",
   "execution_count": 49,
   "metadata": {},
   "outputs": [
    {
     "name": "stdout",
     "output_type": "stream",
     "text": [
      "Tensor(\"conv2d_41/BiasAdd:0\", shape=(?, 64, 64, 64), dtype=float32)\n",
      "Tensor(\"leaky_re_lu_151/LeakyRelu:0\", shape=(?, 64, 64, 64), dtype=float32)\n",
      "Tensor(\"leaky_re_lu_152/LeakyRelu:0\", shape=(?, 64, 64, 64), dtype=float32)\n",
      "Tensor(\"resblk_1c_1/BiasAdd:0\", shape=(?, 64, 64, 128), dtype=float32) Tensor(\"resblk_11_8/BiasAdd:0\", shape=(?, 64, 64, 128), dtype=float32)\n",
      "Tensor(\"leaky_re_lu_153/LeakyRelu:0\", shape=(?, 64, 64, 128), dtype=float32)\n",
      "Tensor(\"leaky_re_lu_154/LeakyRelu:0\", shape=(?, 64, 64, 128), dtype=float32)\n",
      "Tensor(\"leaky_re_lu_155/LeakyRelu:0\", shape=(?, 64, 64, 128), dtype=float32)\n",
      "Tensor(\"resblk_2c_1/BiasAdd:0\", shape=(?, 64, 64, 128), dtype=float32) Tensor(\"resblk_21_8/BiasAdd:0\", shape=(?, 64, 64, 128), dtype=float32)\n",
      "Tensor(\"average_pooling2d_27/AvgPool:0\", shape=(?, 32, 32, 128), dtype=float32)\n",
      "Tensor(\"leaky_re_lu_157/LeakyRelu:0\", shape=(?, 32, 32, 128), dtype=float32)\n",
      "Tensor(\"leaky_re_lu_158/LeakyRelu:0\", shape=(?, 32, 32, 128), dtype=float32)\n",
      "Tensor(\"resblk_3c_1/BiasAdd:0\", shape=(?, 32, 32, 256), dtype=float32) Tensor(\"resblk_31_8/BiasAdd:0\", shape=(?, 32, 32, 256), dtype=float32)\n",
      "Tensor(\"leaky_re_lu_159/LeakyRelu:0\", shape=(?, 32, 32, 256), dtype=float32)\n",
      "Tensor(\"leaky_re_lu_160/LeakyRelu:0\", shape=(?, 32, 32, 256), dtype=float32)\n",
      "Tensor(\"leaky_re_lu_161/LeakyRelu:0\", shape=(?, 32, 32, 256), dtype=float32)\n",
      "Tensor(\"resblk_4c_1/BiasAdd:0\", shape=(?, 32, 32, 256), dtype=float32) Tensor(\"resblk_41_8/BiasAdd:0\", shape=(?, 32, 32, 256), dtype=float32)\n",
      "Tensor(\"average_pooling2d_28/AvgPool:0\", shape=(?, 16, 16, 256), dtype=float32)\n",
      "Tensor(\"leaky_re_lu_163/LeakyRelu:0\", shape=(?, 16, 16, 256), dtype=float32)\n",
      "Tensor(\"leaky_re_lu_164/LeakyRelu:0\", shape=(?, 16, 16, 256), dtype=float32)\n",
      "Tensor(\"resblk_6c_1/BiasAdd:0\", shape=(?, 16, 16, 512), dtype=float32) Tensor(\"resblk_61_2/BiasAdd:0\", shape=(?, 16, 16, 512), dtype=float32)\n",
      "Tensor(\"leaky_re_lu_165/LeakyRelu:0\", shape=(?, 16, 16, 512), dtype=float32)\n",
      "Tensor(\"leaky_re_lu_166/LeakyRelu:0\", shape=(?, 16, 16, 512), dtype=float32)\n",
      "Tensor(\"leaky_re_lu_167/LeakyRelu:0\", shape=(?, 16, 16, 512), dtype=float32)\n",
      "Tensor(\"resblk_7c_1/BiasAdd:0\", shape=(?, 16, 16, 512), dtype=float32) Tensor(\"resblk_71_2/BiasAdd:0\", shape=(?, 16, 16, 512), dtype=float32)\n",
      "Tensor(\"average_pooling2d_29/AvgPool:0\", shape=(?, 8, 8, 512), dtype=float32)\n",
      "Tensor(\"leaky_re_lu_169/LeakyRelu:0\", shape=(?, 8, 8, 512), dtype=float32)\n",
      "Tensor(\"leaky_re_lu_170/LeakyRelu:0\", shape=(?, 8, 8, 512), dtype=float32)\n",
      "Tensor(\"resblk_8c_1/BiasAdd:0\", shape=(?, 8, 8, 1024), dtype=float32) Tensor(\"resblk_81_2/BiasAdd:0\", shape=(?, 8, 8, 1024), dtype=float32)\n",
      "Tensor(\"leaky_re_lu_171/LeakyRelu:0\", shape=(?, 8, 8, 1024), dtype=float32)\n",
      "Tensor(\"leaky_re_lu_172/LeakyRelu:0\", shape=(?, 8, 8, 1024), dtype=float32)\n",
      "Tensor(\"leaky_re_lu_173/LeakyRelu:0\", shape=(?, 8, 8, 1024), dtype=float32)\n",
      "Tensor(\"resblk_9c_1/BiasAdd:0\", shape=(?, 8, 8, 1024), dtype=float32) Tensor(\"resblk_91_2/BiasAdd:0\", shape=(?, 8, 8, 1024), dtype=float32)\n",
      "Tensor(\"average_pooling2d_30/AvgPool:0\", shape=(?, 4, 4, 1024), dtype=float32)\n",
      "Tensor(\"leaky_re_lu_175/LeakyRelu:0\", shape=(?, 4, 4, 1024), dtype=float32)\n",
      "Tensor(\"leaky_re_lu_176/LeakyRelu:0\", shape=(?, 4, 4, 1024), dtype=float32)\n",
      "Tensor(\"resblk_11c_1/BiasAdd:0\", shape=(?, 4, 4, 1024), dtype=float32) Tensor(\"resblk_111_2/BiasAdd:0\", shape=(?, 4, 4, 1024), dtype=float32)\n",
      "Tensor(\"leaky_re_lu_177/LeakyRelu:0\", shape=(?, 4, 4, 1024), dtype=float32)\n",
      "Tensor(\"leaky_re_lu_178/LeakyRelu:0\", shape=(?, 4, 4, 1024), dtype=float32)\n",
      "Tensor(\"leaky_re_lu_179/LeakyRelu:0\", shape=(?, 4, 4, 1024), dtype=float32)\n",
      "Tensor(\"resblk_12c_8/BiasAdd:0\", shape=(?, 4, 4, 1024), dtype=float32) Tensor(\"resblk_121_2/BiasAdd:0\", shape=(?, 4, 4, 1024), dtype=float32)\n"
     ]
    }
   ],
   "source": [
    "d = discriminator()\n",
    "d.compile(loss='mse', optimizer='SGD', metrics=['accuracy'])"
   ]
  },
  {
   "cell_type": "code",
   "execution_count": null,
   "metadata": {},
   "outputs": [],
   "source": [
    "g = generator()"
   ]
  },
  {
   "cell_type": "code",
   "execution_count": null,
   "metadata": {},
   "outputs": [],
   "source": [
    "def train(epochs, batch_size=64, sample_interval=50):\n",
    "    start_time = datetime.datetime.now()\n",
    "    \n",
    "    valid = np.ones((batch_size,) + self.disc_patch)\n",
    "    fake = np.zeros((batch_size,) + self.disc_patch)\n",
    "    \n",
    "    for epoch in range(epochs):\n",
    "        for batch_i, (imgs_A, imgs_B) in enumurate(data_loader.load_batch(batch_size)):\n",
    "            # Train discriminator\n",
    "            fake_X = \n",
    "\n",
    "            # Train generator\n",
    "                \n",
    "        for epoch in range(epochs):\n",
    "            for batch_i, (imgs_A, imgs_B) in enumerate(self.data_loader.load_batch(batch_size)):\n",
    "\n",
    "                # ----------------------\n",
    "                #  Train Discriminators\n",
    "                # ----------------------\n",
    "\n",
    "                # Translate images to opposite domain\n",
    "                fake_B = self.g_AB.predict(imgs_A)\n",
    "                fake_A = self.g_BA.predict(imgs_B)\n",
    "\n",
    "                # Train the discriminators (original images = real / translated = Fake)\n",
    "                dA_loss_real = self.d_A.train_on_batch(imgs_A, valid)\n",
    "                dA_loss_fake = self.d_A.train_on_batch(fake_A, fake)\n",
    "                dA_loss = 0.5 * np.add(dA_loss_real, dA_loss_fake)\n",
    "\n",
    "                dB_loss_real = self.d_B.train_on_batch(imgs_B, valid)\n",
    "                dB_loss_fake = self.d_B.train_on_batch(fake_B, fake)\n",
    "                dB_loss = 0.5 * np.add(dB_loss_real, dB_loss_fake)\n",
    "\n",
    "                # Total disciminator loss\n",
    "                d_loss = 0.5 * np.add(dA_loss, dB_loss)\n",
    "\n",
    "\n",
    "                # ------------------\n",
    "                #  Train Generators\n",
    "                # ------------------\n",
    "\n",
    "                # Train the generators\n",
    "                g_loss = self.combined.train_on_batch([imgs_A, imgs_B],\n",
    "                                                        [valid, valid,\n",
    "                                                        imgs_A, imgs_B,\n",
    "                                                        imgs_A, imgs_B])\n",
    "\n",
    "                elapsed_time = datetime.datetime.now() - start_time\n",
    "\n",
    "                # Plot the progress\n",
    "                print (\"[Epoch %d/%d] [Batch %d/%d] [D loss: %f, acc: %3d%%] [G loss: %05f, adv: %05f, recon: %05f, id: %05f] time: %s \" \\\n",
    "                                                                        % ( epoch, epochs,\n",
    "                                                                            batch_i, self.data_loader.n_batches,\n",
    "                                                                            d_loss[0], 100*d_loss[1],\n",
    "                                                                            g_loss[0],\n",
    "                                                                            np.mean(g_loss[1:3]),\n",
    "                                                                            np.mean(g_loss[3:5]),\n",
    "                                                                            np.mean(g_loss[5:6]),\n",
    "                                                                            elapsed_time))\n",
    "\n",
    "                # If at save interval => save generated image samples\n",
    "                if batch_i % sample_interval == 0:\n",
    "                    self.sample_images(epoch, batch_i)"
   ]
  }
 ],
 "metadata": {
  "kernelspec": {
   "display_name": "Python 3",
   "language": "python",
   "name": "python3"
  },
  "language_info": {
   "codemirror_mode": {
    "name": "ipython",
    "version": 3
   },
   "file_extension": ".py",
   "mimetype": "text/x-python",
   "name": "python",
   "nbconvert_exporter": "python",
   "pygments_lexer": "ipython3",
   "version": "3.6.7"
  }
 },
 "nbformat": 4,
 "nbformat_minor": 2
}
